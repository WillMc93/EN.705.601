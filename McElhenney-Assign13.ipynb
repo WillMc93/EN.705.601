{
 "cells": [
  {
   "cell_type": "markdown",
   "metadata": {},
   "source": [
    "# 0.) Load libraries/datasets"
   ]
  },
  {
   "cell_type": "code",
   "execution_count": 1,
   "metadata": {},
   "outputs": [],
   "source": [
    "# Load libraries\n",
    "%matplotlib inline\n",
    "import matplotlib.pyplot as plt\n",
    "import numpy as np\n",
    "import pandas as pd\n",
    "import re\n",
    "import seaborn as sns\n",
    "import sys\n",
    "\n",
    "from itertools import product\n",
    "from os.path import isdir, isfile\n",
    "from random import shuffle\n",
    "\n",
    "\n",
    "import librosa\n",
    "import librosa.display\n",
    "\n",
    "from sklearn.ensemble import RandomForestClassifier as RFC\n",
    "from sklearn.svm import SVC\n",
    "from sklearn.model_selection import  cross_validate, cross_val_score, GridSearchCV, KFold, StratifiedKFold\n",
    "from sklearn.neighbors import KNeighborsClassifier as KNN\n",
    "\n",
    "import torch\n",
    "import torch.nn as nn\n",
    "\n",
    "# Set up datapath\n",
    "base_path = './datasets/petsounds/cats_dogs/'\n",
    "\n",
    "if not isdir(base_path):\n",
    "    print(f\"The dataset path {base_path} doesn't seem to exist. Please make sure the path to the data is correct.\")\n",
    "\n",
    "# Lambda to construct full path to cat/dog files\n",
    "route = lambda x: base_path + x    \n",
    "    \n",
    "# Get dictionary of sounds\n",
    "cat_file = 'cat_{}.wav'\n",
    "dog_file = 'dog_barking_{}.wav'\n",
    "\n",
    "pet_sounds = {'cat': [], 'dog': []}\n",
    "for i in range(0, 168):\n",
    "    this_cat = cat_file.format(i)\n",
    "    \n",
    "    if isfile(route(this_cat)):\n",
    "        pet_sounds['cat'].append(this_cat)\n",
    "        \n",
    "    this_dog = dog_file.format(i)\n",
    "    if isfile(route(this_dog)):\n",
    "        pet_sounds['dog'].append(this_dog)"
   ]
  },
  {
   "cell_type": "markdown",
   "metadata": {},
   "source": [
    "# 1.) Pre-process a single file using 20 frequency bins, and 2000 Hz sampling frequency."
   ]
  },
  {
   "cell_type": "code",
   "execution_count": 14,
   "metadata": {},
   "outputs": [
    {
     "name": "stdout",
     "output_type": "stream",
     "text": [
      "Spectograph\n"
     ]
    },
    {
     "data": {
      "image/png": "[encoded data removed]",
      "text/plain": [
       "<Figure size 432x288 with 1 Axes>"
      ]
     },
     "metadata": {
      "needs_background": "light"
     },
     "output_type": "display_data"
    },
    {
     "name": "stdout",
     "output_type": "stream",
     "text": [
      "Waveform\n"
     ]
    },
    {
     "data": {
      "image/png": "[encoded data removed]",
      "text/plain": [
       "<Figure size 432x288 with 1 Axes>"
      ]
     },
     "metadata": {
      "needs_background": "light"
     },
     "output_type": "display_data"
    }
   ],
   "source": [
    "SAMPLING_FRQ = 2000\n",
    "BINS = 20\n",
    "\n",
    "# Process the first cat file\n",
    "x, fs = librosa.load(base_path + pet_sounds['cat'][0], sr=SAMPLING_FRQ)\n",
    "mfccs = librosa.feature.mfcc(x, sr=fs, n_mfcc=BINS)\n",
    "librosa.display.specshow(mfccs, sr=fs, x_axis='time')\n",
    "print(\"Spectograph\")\n",
    "plt.show()\n",
    "librosa.display.waveplot(y=x, sr=fs)\n",
    "print(\"Waveform\")\n",
    "plt.show()"
   ]
  },
  {
   "cell_type": "markdown",
   "metadata": {},
   "source": [
    "# 2.) Process each into X and Y matrices. Apply a classifier and comment on results."
   ]
  },
  {
   "cell_type": "markdown",
   "metadata": {},
   "source": [
    "### Some setup"
   ]
  },
  {
   "cell_type": "code",
   "execution_count": 6,
   "metadata": {},
   "outputs": [],
   "source": [
    "# Up sampling frequency to 4k\n",
    "SAMPLING_FRQ = 4000\n",
    "\n",
    "# Set the FFT length; this leads to better sklearn accuracy and \n",
    "#     prevents warnings about frame size.\n",
    "# https://librosa.org/doc/main/ioformats.html?highlight=n_fft\n",
    "# https://librosa.org/doc/main/glossary.html?highlight=n_fft\n",
    "FFT = (2048 * SAMPLING_FRQ) // 22050\n",
    "\n",
    "# Generator function to get all dogs/cats files and label\n",
    "def get_pet(ps_dict=pet_sounds):\n",
    "    for pet in ['cat', 'dog']:\n",
    "        for i in range(0, len(ps_dict[pet])):\n",
    "            yield(ps_dict[pet][i], pet)\n",
    "        \n",
    "    return None\n",
    "\n",
    "# Function to format a scores array into a string for clean output\n",
    "def score_string(scores):\n",
    "    score_str = ''\n",
    "    for idx, score in enumerate(scores):\n",
    "        score_str += f'{score:.3f}'\n",
    "\n",
    "        if idx < len(scores)-1:\n",
    "            score_str += ', '\n",
    "    return score_str"
   ]
  },
  {
   "cell_type": "markdown",
   "metadata": {},
   "source": [
    "### Convert each file into a waveform and store to MFCC"
   ]
  },
  {
   "cell_type": "code",
   "execution_count": 7,
   "metadata": {},
   "outputs": [
    {
     "name": "stdout",
     "output_type": "stream",
     "text": [
      "Wall time: 23.5 s\n"
     ]
    }
   ],
   "source": [
    "%%time\n",
    "\n",
    "ps_mfcc = []\n",
    "\n",
    "for file, pet in get_pet():\n",
    "    wf, sr = librosa.load(route(file), sr=SAMPLING_FRQ)\n",
    "    mfccs = librosa.feature.mfcc(wf, sr=sr, n_mfcc=BINS)\n",
    "    \n",
    "    mfccs = mfccs.T\n",
    "    \n",
    "    ps_mfcc += [(mfccs, pet)]"
   ]
  },
  {
   "cell_type": "markdown",
   "metadata": {},
   "source": [
    "### Do some sklearn\n",
    "\n",
    "Parameters for SVC were found through GridSearchCV, but it took 2 hours and I was mad the results favoured SVC so I deleted it. Luckily, this cell doesn't take too long (about 30 seconds).\n",
    "\n",
    "For reference, I also tried RandomForestClassifier and K-Nearest Neighbors, both of which performed similarly but worse.\n",
    "\n",
    "Stratified K-Fold vs regualar K-Fold seems to not change the outcomes very much here (expected due to class balance). \n",
    "Shuffling the K-Fold improves the scores by about 5% in either K-Fold variety."
   ]
  },
  {
   "cell_type": "code",
   "execution_count": 8,
   "metadata": {},
   "outputs": [],
   "source": [
    "# Split the data into X and Y\n",
    "# I adapated this from the office hours recording after\n",
    "# running into a problem with datatypes for the RNN\n",
    "N = sum([ps.shape[0] for (ps, pet) in ps_mfcc])\n",
    "\n",
    "X = np.zeros((N, BINS))\n",
    "Y = []\n",
    "\n",
    "idx = 0\n",
    "for mfcc, pet in ps_mfcc:\n",
    "    n = mfcc.shape[0]\n",
    "    for jdx in range(n):\n",
    "        X[idx+jdx, :] = mfcc[jdx]\n",
    "        \n",
    "    idx += n\n",
    "    \n",
    "    Y += [0 if pet == 'cat' else 1]*n\n",
    "    \n",
    "Y = np.array(Y)"
   ]
  },
  {
   "cell_type": "code",
   "execution_count": 9,
   "metadata": {},
   "outputs": [
    {
     "name": "stdout",
     "output_type": "stream",
     "text": [
      "Model: SVC(C=10, kernel='poly')\n",
      "\tScores: 0.906, 0.914, 0.912, 0.904, 0.915, 0.905, 0.914, 0.904, 0.913, 0.904\n",
      "\tMean: 0.9089\n",
      "\tSTD: 0.0047\n",
      "\n",
      "Wall time: 38.4 s\n"
     ]
    }
   ],
   "source": [
    "%%time\n",
    "\n",
    "# Run cross-validation\n",
    "model = SVC(C=10, kernel='poly') \n",
    "kfold = StratifiedKFold(n_splits=10, shuffle=True) \n",
    "\n",
    "sk_scores = cross_val_score(model, X, Y, cv=kfold, scoring='accuracy')\n",
    "\n",
    "# Display scores and statistics\n",
    "print(f'Model: {model}')\n",
    "print(f'\\tScores: {score_string(sk_scores)}')\n",
    "print(f'\\tMean: {np.mean(sk_scores):.4f}')\n",
    "print(f'\\tSTD: {np.std(sk_scores):.4f}\\n')"
   ]
  },
  {
   "cell_type": "markdown",
   "metadata": {},
   "source": [
    "### Discussion\n",
    "\n",
    "I'm very satisfied with a mean score of ~0.9. I'm also surprised that shuffling the data around in the KFold produced better results, as the datapoints here are interrelated."
   ]
  },
  {
   "cell_type": "markdown",
   "metadata": {},
   "source": [
    "# 3.) Use an RNN to classify and compare results with the model above."
   ]
  },
  {
   "cell_type": "markdown",
   "metadata": {},
   "source": [
    "### Reorganize data\n",
    "\n",
    "Adapted from office hours."
   ]
  },
  {
   "cell_type": "code",
   "execution_count": 10,
   "metadata": {},
   "outputs": [],
   "source": [
    "n_signals = len(ps_mfcc)\n",
    "ps_mfcc2 = [None]*n_signals\n",
    "\n",
    "for i in range(n_signals):\n",
    "    ps_mfcc2[i] = (torch.tensor(ps_mfcc[i][0], dtype=torch.float),\n",
    "                   torch.tensor([0 if ps_mfcc[i][1] == 'cat' else 1], dtype=torch.long))"
   ]
  },
  {
   "cell_type": "markdown",
   "metadata": {},
   "source": [
    "### Model definition\n",
    "\n",
    "Adapted from module notebook and office hours."
   ]
  },
  {
   "cell_type": "code",
   "execution_count": 11,
   "metadata": {},
   "outputs": [],
   "source": [
    "class RNN(nn.Module):\n",
    "    def __init__(self, n_features, n_hidden, n_output, eta=0.00075):\n",
    "        super(RNN, self).__init__()\n",
    "\n",
    "        self.n_features = n_features\n",
    "        self.n_hidden = n_hidden\n",
    "\n",
    "        self.i2h = nn.Linear(n_features + n_hidden, n_hidden)\n",
    "        self.i2o = nn.Linear(n_features + n_hidden, n_output)\n",
    "        self.softmax = nn.LogSoftmax(dim=1)\n",
    "\n",
    "        self.eta = eta  # learning rate\n",
    "        \n",
    "        self.epochs = 50\n",
    "        self.batch_size = 1000\n",
    "        \n",
    "        # loss function, since the last layer is nn.LogSoftmax\n",
    "        self.criterion = nn.NLLLoss()\n",
    "        \n",
    "        self.optimizer = torch.optim.Adam(self.parameters(), lr=self.eta)\n",
    "\n",
    "    def forward(self, x, hidden):\n",
    "        combined = torch.cat((x, hidden), dim=1)\n",
    "        hidden = self.i2h(combined)\n",
    "        output = self.i2o(combined)\n",
    "        output = self.softmax(output)\n",
    "        return output, hidden\n",
    "    \n",
    "    def init_hidden(self):\n",
    "        return torch.zeros(1, self.n_hidden)\n",
    "    \n",
    "    def predict(self, sxx):\n",
    "        y_pred = []\n",
    "        with torch.no_grad():\n",
    "            hidden = self.init_hidden()\n",
    "            \n",
    "            for i in range(sxx.shape[0]):\n",
    "                output, hidden = self.forward(sxx[i].reshape(1,self.n_features), hidden)\n",
    "                y_pred.append(0 if output[0][0]>output[0][1] else 1)\n",
    "            \n",
    "        return y_pred\n",
    "\n",
    "    def train(self, mfccs, epoch=None, cv=None):\n",
    "           \n",
    "        tot_loss = 0\n",
    "       \n",
    "        # For each signal\n",
    "        for idx, (sxx, y) in enumerate(mfccs):\n",
    "            self.optimizer.zero_grad()\n",
    "            hidden = self.init_hidden()\n",
    "            \n",
    "            # Train the whole signal\n",
    "            for jdx in range(sxx.shape[0]):\n",
    "                output, hidden = self.forward(sxx[jdx].reshape(1, self.n_features), hidden)\n",
    "                \n",
    "            # Generate and apply loss\n",
    "            loss = self.criterion(output, y)\n",
    "            loss.backward()\n",
    "            self.optimizer.step()\n",
    "        \n",
    "            tot_loss += loss\n",
    "        \n",
    "            # Display progress\n",
    "            msg = f\"\\rCV: {cv} | Epoch: {epoch} | \"\n",
    "            msg += f\"Signal: {idx+1:03d}/{len(mfccs)} | \" \n",
    "            msg += f\"Loss: {loss:6.2f} | Avg. Loss: {tot_loss/(idx+1):6.2f}\"\n",
    "        \n",
    "            sys.stderr.write(msg)\n",
    "            sys.stderr.flush()\n",
    "        \n",
    "        return output, loss.item()"
   ]
  },
  {
   "cell_type": "markdown",
   "metadata": {},
   "source": [
    "### Do some RNN"
   ]
  },
  {
   "cell_type": "code",
   "execution_count": 12,
   "metadata": {},
   "outputs": [],
   "source": [
    "# Function to run a 10-fold CV w/ the RNN\n",
    "def cv10(n_hidden=15, lr=0.00065, epochs=50):\n",
    "    \n",
    "    scores = []\n",
    "\n",
    "    kfold = KFold(n_splits = 10)\n",
    "    index = np.arange(len(ps_mfcc2))\n",
    "\n",
    "    for cv, (train_idx, test_idx) in enumerate(kfold.split(index)):\n",
    "        rnn = RNN(20, n_hidden, 2, eta=lr)\n",
    "\n",
    "        training = [ps_mfcc2[i] for i in train_idx]\n",
    "        testing = [ps_mfcc2[i] for i in test_idx]\n",
    "\n",
    "        # Train\n",
    "        for epo in range(epochs):\n",
    "            shuffle(training)\n",
    "            rnn.train(training, epo+1, cv+1)\n",
    "\n",
    "        # Test\n",
    "        # Get predictions\n",
    "        y_pred = []\n",
    "        for mfcc in testing:\n",
    "            y_pred += rnn.predict(mfcc[0])\n",
    "\n",
    "        # Get targets\n",
    "        targets = []\n",
    "        for idx, y in enumerate(testing):\n",
    "            targets.append(y[1])\n",
    "\n",
    "        # Count correct predictions, get accuracy, and store as score\n",
    "        score = 0\n",
    "        for pred, tar in zip(y_pred, targets):\n",
    "            score += 1 if pred == tar else 0\n",
    "\n",
    "        score = score / len(targets)\n",
    "\n",
    "        scores.append(score)\n",
    "        \n",
    "    return scores"
   ]
  },
  {
   "cell_type": "code",
   "execution_count": 13,
   "metadata": {},
   "outputs": [
    {
     "name": "stderr",
     "output_type": "stream",
     "text": [
      "CV: 10 | Epoch: 50 | Signal: 250/250 | Loss:   0.02 | Avg. Loss:   0.21"
     ]
    },
    {
     "name": "stdout",
     "output_type": "stream",
     "text": [
      "Model: RNN\n",
      "\tScores: 0.643, 0.893, 0.571, 0.786, 0.500, 0.679, 0.250, 0.778, 0.852, 0.704\n",
      "\tMean: 0.6655\n",
      "\tSTD: 0.1801\n",
      "\n"
     ]
    }
   ],
   "source": [
    "search = False\n",
    "\n",
    "rnn_scores = []\n",
    "\n",
    "# Grid search parameters\n",
    "lrs = [0.00075, 0.0005, 00.00025]\n",
    "hiddens = [15, 20]\n",
    "\n",
    "# If search is set, run a grid search\n",
    "if search:\n",
    "    max_score = 0\n",
    "    best_params = (None, None)\n",
    "    for lr, hidden in product(lrs, hiddens):\n",
    "        these_scores = cv10(hidden, lr)\n",
    "        score = np.mean(these_scores)\n",
    "\n",
    "        if score > max_score:\n",
    "            max_score = score\n",
    "            best_params = (lr, hidden)\n",
    "            rnn_scores = these_scores\n",
    "\n",
    "    print(f\"Best Learning Rate: {best_params[0]} | Best Num. Hidden: {best_params[1]}\")\n",
    "    \n",
    "# Otherwise run with our default settings.\n",
    "else:\n",
    "    rnn_scores = cv10()\n",
    "\n",
    "# Change topline of results message if appropriate\n",
    "topline = 'Score statistics for best run:' if search else 'Model: RNN'\n",
    "\n",
    "print(topline)\n",
    "print(f'\\tScores: {score_string(rnn_scores)}')\n",
    "print(f'\\tMean: {np.mean(rnn_scores):.4f}')\n",
    "print(f'\\tSTD: {np.std(rnn_scores):.4f}\\n')"
   ]
  },
  {
   "cell_type": "markdown",
   "metadata": {},
   "source": [
    "### Comparision to Scikit-learn model.\n",
    "\n",
    "In general, the RNN here did not perform as well as the SVC in part 2 with some outliers that were on par with SVC (I saw at least one 0.85 score in testing). Some of the results are worse than random too, which is telling of the sophistication of this particular implementation of the RNN architecture. Likely, it is the case that some TLC and parameter tuning would improve the performance of this RNN. We could probably also add additional layers and/or additional layer types (like LSTMs). I also think more signals would also probably be useful. \n",
    "\n",
    "The biggest difference to me I guess would be the lack of consistency out of the RNN (which, again, can probably be fixed).\n",
    "\n",
    "Additionally, it does take way longer to train, but it probably wouldn't be too bad if I was using CUDA (my work machine is an iMac, so I didn't implement that)."
   ]
  },
  {
   "cell_type": "markdown",
   "metadata": {},
   "source": [
    "# 4. Compare this RNN to the CNN in 60-minute Blitz.\n",
    "\n",
    "The RNN here and the CNN have similiar methodologies largely thanks to the PyTorch library. Thanks to the library we don't have to define how slide the kernel across the images in the CNN and we don't have to define our optimizer or loss function in either, which from personal experience in undergrad can be a pain (especially when you have to use Matlab; my NN class was very math based). \n",
    "\n",
    "A large portion of this assignment (for me) was getting the data wrangled in a usuable fashion for the RNN, but the data for image classifier in the Blitz came preprocessed from PyTorch. The other difference in the data was that the CNN layer from PyTorch can be set to read multiple channels (in the case of the image processing this would be the RGB data), whereas in our RNN we had to run each of the signals through 'manually' before applying the loss. "
   ]
  },
  {
   "cell_type": "code",
   "execution_count": null,
   "metadata": {},
   "outputs": [],
   "source": []
  }
 ],
 "metadata": {
  "kernelspec": {
   "display_name": "Python 3",
   "language": "python",
   "name": "python3"
  },
  "language_info": {
   "codemirror_mode": {
    "name": "ipython",
    "version": 3
   },
   "file_extension": ".py",
   "mimetype": "text/x-python",
   "name": "python",
   "nbconvert_exporter": "python",
   "pygments_lexer": "ipython3",
   "version": "3.8.5"
  }
 },
 "nbformat": 4,
 "nbformat_minor": 4
}
