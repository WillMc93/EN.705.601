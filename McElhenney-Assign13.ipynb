{
 "cells": [
  {
   "cell_type": "markdown",
   "metadata": {},
   "source": [
    "# 0.) Load libraries/datasets"
   ]
  },
  {
   "cell_type": "code",
   "execution_count": 1,
   "metadata": {},
   "outputs": [],
   "source": [
    "# Load libraries\n",
    "%matplotlib inline\n",
    "import matplotlib.pyplot as plt\n",
    "import numpy as np\n",
    "import pandas as pd\n",
    "import re\n",
    "import seaborn as sns\n",
    "\n",
    "from itertools import product\n",
    "from os.path import isdir, isfile\n",
    "\n",
    "import librosa\n",
    "import librosa.display\n",
    "\n",
    "# Set up datapath\n",
    "base_path = './datasets/petsounds/cats_dogs/'\n",
    "\n",
    "if not isdir(base_path):\n",
    "    print(f\"The dataset path {base_path} doesn't seem to exist. Please make sure the path to the data is correct.\")\n",
    "    \n",
    "# Get dictionary of sounds\n",
    "cat_file = 'cat_{}.wav'\n",
    "dog_file = 'dog_barking_{}.wav'\n",
    "\n",
    "pet_sounds = {'cat': [], 'dog': []}\n",
    "for i in range(0, 168):\n",
    "    this_cat = base_path + cat_file.format(i)\n",
    "    if isfile(this_cat):\n",
    "        pet_sounds['cat'].append(this_cat)\n",
    "        \n",
    "    this_dog = base_path + dog_file.format(i)\n",
    "    if isfile(this_dog):\n",
    "        pet_sounds['dog'].append(this_dog)"
   ]
  },
  {
   "cell_type": "markdown",
   "metadata": {},
   "source": [
    "# 1.) Pre-process a single file using 20 frequency bins, and 2000 Hz sampling frequency."
   ]
  },
  {
   "cell_type": "code",
   "execution_count": 2,
   "metadata": {},
   "outputs": [
    {
     "data": {
      "text/plain": [
       "<matplotlib.collections.QuadMesh at 0x1e1b27c4e50>"
      ]
     },
     "execution_count": 2,
     "metadata": {},
     "output_type": "execute_result"
    },
    {
     "data": {
      "image/png": "[encoded data removed]",
      "text/plain": [
       "<Figure size 432x288 with 1 Axes>"
      ]
     },
     "metadata": {
      "needs_background": "light"
     },
     "output_type": "display_data"
    }
   ],
   "source": [
    "SAMPLING_FRQ = 2000\n",
    "BINS = 20\n",
    "\n",
    "# Process the first cat file\n",
    "x, fs = librosa.load(pet_sounds['cat'][0], sr=SAMPLING_FRQ)\n",
    "mfccs = librosa.feature.mfcc(x, sr=fs, n_mfcc=BINS)\n",
    "librosa.display.specshow(mfccs, sr=fs, x_axis='time')"
   ]
  },
  {
   "cell_type": "markdown",
   "metadata": {},
   "source": [
    "# 2.) Process each into X and Y matrices. Apply a classifier and comment on results."
   ]
  },
  {
   "cell_type": "markdown",
   "metadata": {},
   "source": [
    "### Some setup"
   ]
  },
  {
   "cell_type": "code",
   "execution_count": 3,
   "metadata": {},
   "outputs": [],
   "source": [
    "# Up sampling frequency to 4k\n",
    "SAMPLING_FRQ = 4000\n",
    "\n",
    "# Generator function to get all dogs/cats files and label\n",
    "def get_pet():\n",
    "    for pet in ['cat', 'dog']:\n",
    "        for i in range(0, len(pet_sounds[pet])):\n",
    "            yield(pet_sounds[pet][i], pet)\n",
    "        \n",
    "    return None"
   ]
  },
  {
   "cell_type": "markdown",
   "metadata": {},
   "source": [
    "### Convert all sounds in pet_sounds to waveforms"
   ]
  },
  {
   "cell_type": "code",
   "execution_count": 4,
   "metadata": {},
   "outputs": [
    {
     "name": "stdout",
     "output_type": "stream",
     "text": [
      "Wall time: 20.5 s\n"
     ]
    }
   ],
   "source": [
    "%%time\n",
    "\n",
    "spec_pet_sounds = {'cat': [], 'dog': []}\n",
    "for sound, pet in get_pet():\n",
    "    wf, _ = librosa.load(sound, sr=SAMPLING_FRQ)\n",
    "    \n",
    "    # trim leading zeros\n",
    "    wf = np.trim_zeros(wf, 'f')\n",
    "    \n",
    "    spec_pet_sounds[pet].append(wf)\n",
    "\n",
    "# save changes\n",
    "pet_sounds = spec_pet_sounds"
   ]
  },
  {
   "cell_type": "markdown",
   "metadata": {},
   "source": [
    "### Pad sound files to max length"
   ]
  },
  {
   "cell_type": "code",
   "execution_count": 5,
   "metadata": {},
   "outputs": [],
   "source": [
    "# determine max length\n",
    "max_len = 0\n",
    "for wf, _ in get_pet():\n",
    "    max_len = len(wf) if len(wf) > max_len else max_len\n",
    "    \n",
    "# pad to max length\n",
    "ext_pet_sounds = {'cat': [], 'dog': []}\n",
    "for wf, pet in get_pet():\n",
    "\n",
    "    if len(wf) < max_len:\n",
    "        wf = np.pad(wf, (0, max_len), 'constant', constant_values=(0,0))\n",
    "        \n",
    "    ext_pet_sounds[pet].append(wf)\n",
    "    \n",
    "# save changes\n",
    "pet_sounds = ext_pet_sounds"
   ]
  },
  {
   "cell_type": "markdown",
   "metadata": {},
   "source": [
    "### Get a DataFrame and then Matricies"
   ]
  },
  {
   "cell_type": "code",
   "execution_count": 8,
   "metadata": {},
   "outputs": [],
   "source": [
    "# Process into Dataframe for personal sanity\n",
    "pet_sounds_dict = None\n",
    "\n",
    "for wf, pet in get_pet():\n",
    "    mfccs = librosa.feature.mfcc(wf, sr=SAMPLING_FRQ, n_mfcc=BINS)\n",
    "    \n",
    "    # initialize dictionary if necessary\n",
    "    if pet_sounds_dict is None:\n",
    "        pet_sounds_dict = {}\n",
    "        for i in range(len(mfccs)):\n",
    "            pet_sounds_dict[f'MFCC_{i}'] = []\n",
    "        pet_sounds_dict['Class'] = []\n",
    "\n",
    "    # fill dictionary\n",
    "    for i in range(len(mfccs)):\n",
    "        pet_sounds_dict[f'MFCC_{i}'].append(mfccs[i])\n",
    "    # binarize the Class column\n",
    "    pet_sounds_dict['Class'].append(0 if pet == 'cat' else 1)\n",
    "\n",
    "# Make df\n",
    "pet_sounds_df = pd.DataFrame(pet_sounds_dict)\n",
    "   \n",
    "#display(pet_sounds_df)"
   ]
  },
  {
   "cell_type": "code",
   "execution_count": 9,
   "metadata": {},
   "outputs": [],
   "source": [
    "# Now actually make matricies (am dummy and couldn't get this right without a Dataframe)\n",
    "X = pet_sounds_df.loc[:, pet_sounds_df.columns != 'Class'].values\n",
    "Y = pet_sounds_df.loc[:, pet_sounds_df.columns == 'Class'].values.ravel()"
   ]
  },
  {
   "cell_type": "markdown",
   "metadata": {},
   "source": [
    "### Do some sklearn"
   ]
  },
  {
   "cell_type": "code",
   "execution_count": null,
   "metadata": {},
   "outputs": [],
   "source": []
  }
 ],
 "metadata": {
  "kernelspec": {
   "display_name": "Python 3",
   "language": "python",
   "name": "python3"
  },
  "language_info": {
   "codemirror_mode": {
    "name": "ipython",
    "version": 3
   },
   "file_extension": ".py",
   "mimetype": "text/x-python",
   "name": "python",
   "nbconvert_exporter": "python",
   "pygments_lexer": "ipython3",
   "version": "3.8.5"
  }
 },
 "nbformat": 4,
 "nbformat_minor": 4
}
