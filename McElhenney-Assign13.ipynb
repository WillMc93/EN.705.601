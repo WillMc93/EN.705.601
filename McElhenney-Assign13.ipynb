{
 "cells": [
  {
   "cell_type": "markdown",
   "metadata": {},
   "source": [
    "# 0.) Load libraries/datasets"
   ]
  },
  {
   "cell_type": "code",
   "execution_count": 1,
   "metadata": {},
   "outputs": [],
   "source": [
    "# Load libraries\n",
    "%matplotlib inline\n",
    "import matplotlib.pyplot as plt\n",
    "import numpy as np\n",
    "import pandas as pd\n",
    "import re\n",
    "import seaborn as sns\n",
    "import sys\n",
    "\n",
    "from itertools import product\n",
    "from os.path import isdir, isfile\n",
    "from random import shuffle\n",
    "\n",
    "\n",
    "import librosa\n",
    "import librosa.display\n",
    "\n",
    "from sklearn.ensemble import RandomForestClassifier as RFC\n",
    "from sklearn.svm import SVC\n",
    "from sklearn.model_selection import  cross_validate, cross_val_score, GridSearchCV, KFold, StratifiedKFold\n",
    "from sklearn.neighbors import KNeighborsClassifier as KNN\n",
    "\n",
    "import torch\n",
    "import torch.nn as nn\n",
    "\n",
    "# Set up datapath\n",
    "base_path = './datasets/petsounds/cats_dogs/'\n",
    "\n",
    "if not isdir(base_path):\n",
    "    print(f\"The dataset path {base_path} doesn't seem to exist. Please make sure the path to the data is correct.\")\n",
    "\n",
    "# Lambda to construct full path to cat/dog files\n",
    "route = lambda x: base_path + x    \n",
    "    \n",
    "# Get dictionary of sounds\n",
    "cat_file = 'cat_{}.wav'\n",
    "dog_file = 'dog_barking_{}.wav'\n",
    "\n",
    "pet_sounds = {'cat': [], 'dog': []}\n",
    "for i in range(0, 168):\n",
    "    this_cat = cat_file.format(i)\n",
    "    \n",
    "    if isfile(route(this_cat)):\n",
    "        pet_sounds['cat'].append(this_cat)\n",
    "        \n",
    "    this_dog = dog_file.format(i)\n",
    "    if isfile(route(this_dog)):\n",
    "        pet_sounds['dog'].append(this_dog)"
   ]
  },
  {
   "cell_type": "markdown",
   "metadata": {},
   "source": [
    "# 1.) Pre-process a single file using 20 frequency bins, and 2000 Hz sampling frequency."
   ]
  },
  {
   "cell_type": "code",
   "execution_count": 2,
   "metadata": {},
   "outputs": [
    {
     "data": {
      "text/plain": [
       "<matplotlib.collections.QuadMesh at 0x7fc812a210a0>"
      ]
     },
     "execution_count": 2,
     "metadata": {},
     "output_type": "execute_result"
    },
    {
     "data": {
      "image/png": "[encoded data removed]",
      "text/plain": [
       "<Figure size 432x288 with 1 Axes>"
      ]
     },
     "metadata": {
      "needs_background": "light"
     },
     "output_type": "display_data"
    }
   ],
   "source": [
    "SAMPLING_FRQ = 2000\n",
    "BINS = 20\n",
    "\n",
    "# Process the first cat file\n",
    "x, fs = librosa.load(base_path + pet_sounds['cat'][0], sr=SAMPLING_FRQ)\n",
    "mfccs = librosa.feature.mfcc(x, sr=fs, n_mfcc=BINS)\n",
    "librosa.display.specshow(mfccs, sr=fs, x_axis='time')"
   ]
  },
  {
   "cell_type": "markdown",
   "metadata": {},
   "source": [
    "# 2.) Process each into X and Y matrices. Apply a classifier and comment on results."
   ]
  },
  {
   "cell_type": "markdown",
   "metadata": {},
   "source": [
    "### Some setup"
   ]
  },
  {
   "cell_type": "code",
   "execution_count": 3,
   "metadata": {},
   "outputs": [],
   "source": [
    "# Up sampling frequency to 4k\n",
    "SAMPLING_FRQ = 4000\n",
    "\n",
    "# Set the FFT length; this leads to better sklearn accuracy and \n",
    "#     prevents warnings about frame size.\n",
    "# https://librosa.org/doc/main/ioformats.html?highlight=n_fft\n",
    "# https://librosa.org/doc/main/glossary.html?highlight=n_fft\n",
    "FFT = (2048 * SAMPLING_FRQ) // 22050\n",
    "\n",
    "# Generator function to get all dogs/cats files and label\n",
    "def get_pet(ps_dict=pet_sounds):\n",
    "    for pet in ['cat', 'dog']:\n",
    "        for i in range(0, len(ps_dict[pet])):\n",
    "            yield(ps_dict[pet][i], pet)\n",
    "        \n",
    "    return None\n",
    "\n",
    "# Function to format a scores array into a string for clean output\n",
    "def score_string(scores):\n",
    "    score_str = ''\n",
    "    for idx, score in enumerate(scores):\n",
    "        score_str += f'{score:.3f}'\n",
    "\n",
    "        if idx < len(scores)-1:\n",
    "            score_str += ', '\n",
    "    return score_str"
   ]
  },
  {
   "cell_type": "markdown",
   "metadata": {},
   "source": [
    "### Convert each file into a waveform and store to MFCC"
   ]
  },
  {
   "cell_type": "code",
   "execution_count": 4,
   "metadata": {},
   "outputs": [
    {
     "name": "stdout",
     "output_type": "stream",
     "text": [
      "CPU times: user 23.9 s, sys: 83 ms, total: 24 s\n",
      "Wall time: 24 s\n"
     ]
    }
   ],
   "source": [
    "%%time\n",
    "\n",
    "ps_mfcc = []\n",
    "\n",
    "for file, pet in get_pet():\n",
    "    wf, sr = librosa.load(route(file), sr=SAMPLING_FRQ)\n",
    "    mfccs = librosa.feature.mfcc(wf, sr=sr, n_mfcc=BINS)\n",
    "    \n",
    "    mfccs = mfccs.T\n",
    "    \n",
    "    ps_mfcc += [(mfccs, pet)]"
   ]
  },
  {
   "cell_type": "markdown",
   "metadata": {},
   "source": [
    "### Do some sklearn\n",
    "\n",
    "Parameters for SVC were found through GridSearchCV, but it took 2 hours and I was mad the results favoured SVC so I deleted it. Luckily, this cell doesn't take too long (about 30 seconds).\n",
    "\n",
    "For reference, I also tried RandomForestClassifier and K-Nearest Neighbors, both of which performed similarly but worse.\n",
    "\n",
    "Stratified K-Fold vs regualar K-Fold seems to not change the outcomes very much here (expected due to class balance). \n",
    "Shuffling the K-Fold improves the scores by about 5% in either K-Fold variety."
   ]
  },
  {
   "cell_type": "code",
   "execution_count": 5,
   "metadata": {},
   "outputs": [],
   "source": [
    "# Split the data into X and Y\n",
    "# I adapated this from the office hours recording after\n",
    "# running into a problem with datatypes for the RNN\n",
    "N = sum([ps.shape[0] for (ps, pet) in ps_mfcc])\n",
    "\n",
    "X = np.zeros((N, BINS))\n",
    "Y = []\n",
    "\n",
    "idx = 0\n",
    "for mfcc, pet in ps_mfcc:\n",
    "    n = mfcc.shape[0]\n",
    "    for jdx in range(n):\n",
    "        X[idx+jdx, :] = mfcc[jdx]\n",
    "        \n",
    "    idx += n\n",
    "    \n",
    "    Y += [0 if pet == 'cat' else 1]*n\n",
    "    \n",
    "Y = np.array(Y)"
   ]
  },
  {
   "cell_type": "code",
   "execution_count": 6,
   "metadata": {},
   "outputs": [
    {
     "name": "stdout",
     "output_type": "stream",
     "text": [
      "Model: SVC(C=10, kernel='poly')\n",
      "\tScores: 0.917, 0.900, 0.913, 0.912, 0.915, 0.904, 0.906, 0.917, 0.906, 0.904\n",
      "\tMean: 0.9093\n",
      "\tSTD: 0.0058\n",
      "\n",
      "CPU times: user 36 s, sys: 777 ms, total: 36.8 s\n",
      "Wall time: 36.8 s\n"
     ]
    }
   ],
   "source": [
    "%%time\n",
    "\n",
    "# Run cross-validation\n",
    "model = SVC(C=10, kernel='poly') \n",
    "kfold = StratifiedKFold(n_splits=10, shuffle=True) \n",
    "\n",
    "sk_scores = cross_val_score(model, X, Y, cv=kfold, scoring='accuracy')\n",
    "\n",
    "# Display scores and statistics\n",
    "print(f'Model: {model}')\n",
    "print(f'\\tScores: {score_string(sk_scores)}')\n",
    "print(f'\\tMean: {np.mean(sk_scores):.4f}')\n",
    "print(f'\\tSTD: {np.std(sk_scores):.4f}\\n')"
   ]
  },
  {
   "cell_type": "markdown",
   "metadata": {},
   "source": [
    "# 3.) Use an RNN to classify and compare results with the model above."
   ]
  },
  {
   "cell_type": "markdown",
   "metadata": {},
   "source": [
    "### Reorganize data"
   ]
  },
  {
   "cell_type": "code",
   "execution_count": 7,
   "metadata": {},
   "outputs": [],
   "source": [
    "n_signals = len(ps_mfcc)\n",
    "ps_mfcc2 = [None]*n_signals\n",
    "\n",
    "for i in range(n_signals):\n",
    "    ps_mfcc2[i] = (torch.tensor(ps_mfcc[i][0], dtype=torch.float),\n",
    "                   torch.tensor([0 if ps_mfcc[i][1] == 'cat' else 1], dtype=torch.long))"
   ]
  },
  {
   "cell_type": "markdown",
   "metadata": {},
   "source": [
    "### Model definition"
   ]
  },
  {
   "cell_type": "code",
   "execution_count": 8,
   "metadata": {},
   "outputs": [],
   "source": [
    "class RNN(nn.Module):\n",
    "    def __init__(self, n_features, n_hidden, n_output, eta=0.0005):\n",
    "        super(RNN, self).__init__()\n",
    "\n",
    "        self.n_features = n_features\n",
    "        self.n_hidden = n_hidden\n",
    "\n",
    "        self.i2h = nn.Linear(n_features + n_hidden, n_hidden)\n",
    "        self.i2o = nn.Linear(n_features + n_hidden, n_output)\n",
    "        self.softmax = nn.LogSoftmax(dim=1)\n",
    "\n",
    "        self.eta = eta  # learning rate\n",
    "        \n",
    "        self.epochs = 50\n",
    "        self.batch_size = 1000\n",
    "        \n",
    "        # loss function, since the last layer is nn.LogSoftmax\n",
    "        self.criterion = nn.NLLLoss()\n",
    "        \n",
    "        self.optimizer = torch.optim.Adam(self.parameters(), lr=self.eta)\n",
    "\n",
    "    def forward(self, x, hidden):\n",
    "        combined = torch.cat((x, hidden), dim=1)\n",
    "        hidden = self.i2h(combined)\n",
    "        output = self.i2o(combined)\n",
    "        output = self.softmax(output)\n",
    "        return output, hidden\n",
    "    \n",
    "    def init_hidden(self):\n",
    "        return torch.zeros(1, self.n_hidden)\n",
    "    \n",
    "    def predict(self, sxx):\n",
    "        y_pred = []\n",
    "        with torch.no_grad():\n",
    "            hidden = self.init_hidden()\n",
    "            # sxx = torch.tensor(sxx, dtype=torch.float)\n",
    "            for i in range(sxx.shape[0]):\n",
    "                output, hidden = self.forward(sxx[i].reshape(1,self.n_features), hidden)\n",
    "                y_pred.append(0 if output[0][0]>output[0][1] else 1)\n",
    "            \n",
    "        return y_pred\n",
    "\n",
    "    def train(self, mfccs, epoch=None):\n",
    "           \n",
    "        tot_loss = 0\n",
    "                 \n",
    "        for idx, (sxx, y) in enumerate(mfccs):\n",
    "            hidden = self.init_hidden()\n",
    "            self.optimizer.zero_grad()\n",
    "            \n",
    "            for jdx in range(sxx.shape[0]):\n",
    "                output, hidden = self.forward(sxx[jdx].reshape(1, self.n_features), hidden)\n",
    "                \n",
    "            loss = self.criterion(output, y)\n",
    "            loss.backward()\n",
    "            \n",
    "            self.optimizer.step()\n",
    "        \n",
    "            tot_loss += loss\n",
    "        \n",
    "            msg = f\"Signal: {idx+1:03d}/{len(mfccs)} | \" \n",
    "            msg += f\"Loss: {loss:6.2f} | Avg. Loss: {tot_loss/(idx+1):6.2f} | {y.data.tolist() [0]}\"\n",
    "        \n",
    "            sys.stderr.write(msg)\n",
    "            sys.stderr.flush()\n",
    "        \n",
    "        return output, loss.item()"
   ]
  },
  {
   "cell_type": "markdown",
   "metadata": {},
   "source": [
    "### Do some RNN"
   ]
  },
  {
   "cell_type": "code",
   "execution_count": 9,
   "metadata": {},
   "outputs": [
    {
     "ename": "ValueError",
     "evalue": "not enough values to unpack (expected 3, got 2)",
     "output_type": "error",
     "traceback": [
      "\u001b[0;31m---------------------------------------------------------------------------\u001b[0m",
      "\u001b[0;31mValueError\u001b[0m                                Traceback (most recent call last)",
      "\u001b[0;32m<ipython-input-9-981ea446bdc7>\u001b[0m in \u001b[0;36m<module>\u001b[0;34m\u001b[0m\n\u001b[1;32m      7\u001b[0m \u001b[0mindex\u001b[0m \u001b[0;34m=\u001b[0m \u001b[0mnp\u001b[0m\u001b[0;34m.\u001b[0m\u001b[0marange\u001b[0m\u001b[0;34m(\u001b[0m\u001b[0mlen\u001b[0m\u001b[0;34m(\u001b[0m\u001b[0mps_mfcc2\u001b[0m\u001b[0;34m)\u001b[0m\u001b[0;34m)\u001b[0m\u001b[0;34m\u001b[0m\u001b[0;34m\u001b[0m\u001b[0m\n\u001b[1;32m      8\u001b[0m \u001b[0;34m\u001b[0m\u001b[0m\n\u001b[0;32m----> 9\u001b[0;31m \u001b[0;32mfor\u001b[0m \u001b[0mcv\u001b[0m\u001b[0;34m,\u001b[0m \u001b[0mtrain_idx\u001b[0m\u001b[0;34m,\u001b[0m \u001b[0mtest_idx\u001b[0m \u001b[0;32min\u001b[0m \u001b[0menumerate\u001b[0m\u001b[0;34m(\u001b[0m\u001b[0mkfold\u001b[0m\u001b[0;34m.\u001b[0m\u001b[0msplit\u001b[0m\u001b[0;34m(\u001b[0m\u001b[0mindex\u001b[0m\u001b[0;34m)\u001b[0m\u001b[0;34m)\u001b[0m\u001b[0;34m:\u001b[0m\u001b[0;34m\u001b[0m\u001b[0;34m\u001b[0m\u001b[0m\n\u001b[0m\u001b[1;32m     10\u001b[0m     \u001b[0mrnn\u001b[0m \u001b[0;34m=\u001b[0m \u001b[0mRNN\u001b[0m\u001b[0;34m(\u001b[0m\u001b[0mBINS\u001b[0m\u001b[0;34m,\u001b[0m \u001b[0;36m20\u001b[0m\u001b[0;34m,\u001b[0m \u001b[0;36m2\u001b[0m\u001b[0;34m)\u001b[0m\u001b[0;34m\u001b[0m\u001b[0;34m\u001b[0m\u001b[0m\n\u001b[1;32m     11\u001b[0m \u001b[0;34m\u001b[0m\u001b[0m\n",
      "\u001b[0;31mValueError\u001b[0m: not enough values to unpack (expected 3, got 2)"
     ]
    }
   ],
   "source": [
    "EPOCHS = 50\n",
    "\n",
    "# Run a 10-fold CV w/ RNN\n",
    "scores = []\n",
    "\n",
    "kfold = KFold(n_splits = 10)\n",
    "index = np.arange(len(ps_mfcc2))\n",
    "\n",
    "for cv, train_idx, test_idx in enumerate(kfold.split(index)):\n",
    "    rnn = RNN(BINS, 20, 2)\n",
    "    \n",
    "    training = [ps_mfcc2[i] for i in train_idx]\n",
    "    testing = [ps_mfcc2[i] for i in test_idx]\n",
    "      \n",
    "    # Train\n",
    "    for epo in range(EPOCHS):\n",
    "        msg = f\"\\rCV: {cv} | Epoch: {epo} | \"\n",
    "        sys.stderr.write(msg)\n",
    "        sys.stderr.flush()\n",
    "        \n",
    "        shuffle(training)\n",
    "        rnn.train(training, epo)\n",
    "        \n",
    "    # Test\n",
    "    # Get predictions\n",
    "    y_pred = []\n",
    "    for mfcc in testing:\n",
    "        y_pred += [rnn.predict(mfcc[0])]\n",
    "    \n",
    "    # Get targets\n",
    "    targets = []\n",
    "    for idx, y in enumerate(testing):\n",
    "        targets.append(y[1])\n",
    "    \n",
    "    # Count correct predictions and store as score\n",
    "    score = 0\n",
    "    for pred, tar in zip(y_pred, targets):\n",
    "        score += 1 if pred == tar else 0\n",
    "        \n",
    "    score = score / len(targets)           \n",
    "       \n",
    "    scores.append(score)"
   ]
  },
  {
   "cell_type": "code",
   "execution_count": null,
   "metadata": {},
   "outputs": [],
   "source": [
    "torch.cuda.is_available()"
   ]
  },
  {
   "cell_type": "code",
   "execution_count": null,
   "metadata": {},
   "outputs": [],
   "source": [
    "ps_mfcc[0][0].shape"
   ]
  },
  {
   "cell_type": "code",
   "execution_count": null,
   "metadata": {},
   "outputs": [],
   "source": []
  }
 ],
 "metadata": {
  "kernelspec": {
   "display_name": "Python 3",
   "language": "python",
   "name": "python3"
  },
  "language_info": {
   "codemirror_mode": {
    "name": "ipython",
    "version": 3
   },
   "file_extension": ".py",
   "mimetype": "text/x-python",
   "name": "python",
   "nbconvert_exporter": "python",
   "pygments_lexer": "ipython3",
   "version": "3.8.5"
  }
 },
 "nbformat": 4,
 "nbformat_minor": 4
}
