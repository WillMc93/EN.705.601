{
 "cells": [
  {
   "cell_type": "markdown",
   "metadata": {},
   "source": [
    "# 0.) Load libraries/datasets"
   ]
  },
  {
   "cell_type": "code",
   "execution_count": 1,
   "metadata": {},
   "outputs": [],
   "source": [
    "# Load libraries\n",
    "%matplotlib inline\n",
    "import matplotlib.pyplot as plt\n",
    "import numpy as np\n",
    "import pandas as pd\n",
    "import re\n",
    "import seaborn as sns\n",
    "\n",
    "from itertools import product\n",
    "from os.path import isdir, isfile\n",
    "\n",
    "import librosa\n",
    "import librosa.display\n",
    "\n",
    "from sklearn.ensemble import RandomForestClassifier as RFC\n",
    "from sklearn.svm import SVC\n",
    "from sklearn.model_selection import  cross_val_score, GridSearchCV, KFold\n",
    "from sklearn.neighbors import KNeighborsClassifier as KNN\n",
    "\n",
    "# Set up datapath\n",
    "base_path = './datasets/petsounds/cats_dogs/'\n",
    "\n",
    "if not isdir(base_path):\n",
    "    print(f\"The dataset path {base_path} doesn't seem to exist. Please make sure the path to the data is correct.\")\n",
    "    \n",
    "# Get dictionary of sounds\n",
    "cat_file = 'cat_{}.wav'\n",
    "dog_file = 'dog_barking_{}.wav'\n",
    "\n",
    "pet_sounds = {'cat': [], 'dog': []}\n",
    "for i in range(0, 168):\n",
    "    # this_cat = base_path + cat_file.format(i)\n",
    "    this_cat = cat_file.format(i)\n",
    "    \n",
    "    if isfile(base_path + this_cat):\n",
    "        pet_sounds['cat'].append(this_cat)\n",
    "        \n",
    "    # this_dog = base_path + dog_file.format(i)\n",
    "    this_dog = dog_file.format(i)\n",
    "    if isfile(base_path + this_dog):\n",
    "        pet_sounds['dog'].append(this_dog)"
   ]
  },
  {
   "cell_type": "markdown",
   "metadata": {},
   "source": [
    "# 1.) Pre-process a single file using 20 frequency bins, and 2000 Hz sampling frequency."
   ]
  },
  {
   "cell_type": "code",
   "execution_count": 2,
   "metadata": {},
   "outputs": [
    {
     "data": {
      "text/plain": [
       "<matplotlib.collections.QuadMesh at 0x7fe05cf06940>"
      ]
     },
     "execution_count": 2,
     "metadata": {},
     "output_type": "execute_result"
    },
    {
     "data": {
      "image/png": "[encoded data removed]",
      "text/plain": [
       "<Figure size 432x288 with 1 Axes>"
      ]
     },
     "metadata": {
      "needs_background": "light"
     },
     "output_type": "display_data"
    }
   ],
   "source": [
    "SAMPLING_FRQ = 2000\n",
    "BINS = 20\n",
    "\n",
    "# Process the first cat file\n",
    "x, fs = librosa.load(base_path + pet_sounds['cat'][0], sr=SAMPLING_FRQ)\n",
    "mfccs = librosa.feature.mfcc(x, sr=fs, n_mfcc=BINS)\n",
    "librosa.display.specshow(mfccs, sr=fs, x_axis='time')"
   ]
  },
  {
   "cell_type": "markdown",
   "metadata": {},
   "source": [
    "# 2.) Process each into X and Y matrices. Apply a classifier and comment on results."
   ]
  },
  {
   "cell_type": "markdown",
   "metadata": {},
   "source": [
    "### Some setup"
   ]
  },
  {
   "cell_type": "code",
   "execution_count": 3,
   "metadata": {},
   "outputs": [],
   "source": [
    "# Up sampling frequency to 4k\n",
    "SAMPLING_FRQ = 4000\n",
    "\n",
    "# Set the FFT length\n",
    "# https://librosa.org/doc/main/ioformats.html?highlight=n_fft\n",
    "# https://librosa.org/doc/main/glossary.html?highlight=n_fft\n",
    "FFT = (2048 * SAMPLING_FRQ) // 22050\n",
    "\n",
    "# Generator function to get all dogs/cats files and label\n",
    "def get_pet(ps_dict=pet_sounds):\n",
    "    for pet in ['cat', 'dog']:\n",
    "        for i in range(0, len(ps_dict[pet])):\n",
    "            yield(ps_dict[pet][i], pet)\n",
    "        \n",
    "    return None"
   ]
  },
  {
   "cell_type": "markdown",
   "metadata": {},
   "source": [
    "### Convert each file into a waveform and store to DataFrame"
   ]
  },
  {
   "cell_type": "code",
   "execution_count": 4,
   "metadata": {},
   "outputs": [
    {
     "data": {
      "text/html": [
       "<div>\n",
       "<style scoped>\n",
       "    .dataframe tbody tr th:only-of-type {\n",
       "        vertical-align: middle;\n",
       "    }\n",
       "\n",
       "    .dataframe tbody tr th {\n",
       "        vertical-align: top;\n",
       "    }\n",
       "\n",
       "    .dataframe thead th {\n",
       "        text-align: right;\n",
       "    }\n",
       "</style>\n",
       "<table border=\"1\" class=\"dataframe\">\n",
       "  <thead>\n",
       "    <tr style=\"text-align: right;\">\n",
       "      <th></th>\n",
       "      <th>MFCC_0</th>\n",
       "      <th>MFCC_1</th>\n",
       "      <th>MFCC_2</th>\n",
       "      <th>MFCC_3</th>\n",
       "      <th>MFCC_4</th>\n",
       "      <th>MFCC_5</th>\n",
       "      <th>MFCC_6</th>\n",
       "      <th>MFCC_7</th>\n",
       "      <th>MFCC_8</th>\n",
       "      <th>MFCC_9</th>\n",
       "      <th>...</th>\n",
       "      <th>MFCC_12</th>\n",
       "      <th>MFCC_13</th>\n",
       "      <th>MFCC_14</th>\n",
       "      <th>MFCC_15</th>\n",
       "      <th>MFCC_16</th>\n",
       "      <th>MFCC_17</th>\n",
       "      <th>MFCC_18</th>\n",
       "      <th>MFCC_19</th>\n",
       "      <th>class</th>\n",
       "      <th>file</th>\n",
       "    </tr>\n",
       "  </thead>\n",
       "  <tbody>\n",
       "    <tr>\n",
       "      <th>0</th>\n",
       "      <td>-401.809357</td>\n",
       "      <td>-6.883381</td>\n",
       "      <td>37.074257</td>\n",
       "      <td>8.628761</td>\n",
       "      <td>-29.159145</td>\n",
       "      <td>8.689098</td>\n",
       "      <td>-18.552784</td>\n",
       "      <td>9.624913</td>\n",
       "      <td>7.769758</td>\n",
       "      <td>-2.060371</td>\n",
       "      <td>...</td>\n",
       "      <td>-4.356100</td>\n",
       "      <td>21.479511</td>\n",
       "      <td>-0.473684</td>\n",
       "      <td>9.695919</td>\n",
       "      <td>-4.573258</td>\n",
       "      <td>6.906791</td>\n",
       "      <td>-5.868635</td>\n",
       "      <td>6.419684</td>\n",
       "      <td>cat</td>\n",
       "      <td>cat_1.wav</td>\n",
       "    </tr>\n",
       "    <tr>\n",
       "      <th>1</th>\n",
       "      <td>-451.546722</td>\n",
       "      <td>71.212662</td>\n",
       "      <td>9.399033</td>\n",
       "      <td>1.004310</td>\n",
       "      <td>-21.921335</td>\n",
       "      <td>-6.178901</td>\n",
       "      <td>-17.028158</td>\n",
       "      <td>-3.420984</td>\n",
       "      <td>-9.570553</td>\n",
       "      <td>5.378980</td>\n",
       "      <td>...</td>\n",
       "      <td>1.343739</td>\n",
       "      <td>15.090795</td>\n",
       "      <td>-5.538236</td>\n",
       "      <td>0.010958</td>\n",
       "      <td>-16.734739</td>\n",
       "      <td>-3.696347</td>\n",
       "      <td>-1.431490</td>\n",
       "      <td>0.020051</td>\n",
       "      <td>cat</td>\n",
       "      <td>cat_1.wav</td>\n",
       "    </tr>\n",
       "    <tr>\n",
       "      <th>2</th>\n",
       "      <td>-467.586639</td>\n",
       "      <td>66.741180</td>\n",
       "      <td>-3.497698</td>\n",
       "      <td>-1.904688</td>\n",
       "      <td>-12.276025</td>\n",
       "      <td>-3.175431</td>\n",
       "      <td>-26.669403</td>\n",
       "      <td>9.023046</td>\n",
       "      <td>-14.347551</td>\n",
       "      <td>1.665918</td>\n",
       "      <td>...</td>\n",
       "      <td>-5.439007</td>\n",
       "      <td>12.779630</td>\n",
       "      <td>-7.836804</td>\n",
       "      <td>-1.615031</td>\n",
       "      <td>-14.847106</td>\n",
       "      <td>-4.164679</td>\n",
       "      <td>-6.856385</td>\n",
       "      <td>5.027202</td>\n",
       "      <td>cat</td>\n",
       "      <td>cat_1.wav</td>\n",
       "    </tr>\n",
       "    <tr>\n",
       "      <th>3</th>\n",
       "      <td>-462.881042</td>\n",
       "      <td>73.702545</td>\n",
       "      <td>1.519370</td>\n",
       "      <td>0.349248</td>\n",
       "      <td>-28.249584</td>\n",
       "      <td>-11.111385</td>\n",
       "      <td>-18.216236</td>\n",
       "      <td>-1.470417</td>\n",
       "      <td>-10.215892</td>\n",
       "      <td>3.547068</td>\n",
       "      <td>...</td>\n",
       "      <td>-2.649648</td>\n",
       "      <td>16.240955</td>\n",
       "      <td>0.552022</td>\n",
       "      <td>-1.608632</td>\n",
       "      <td>-11.360909</td>\n",
       "      <td>-7.012007</td>\n",
       "      <td>-4.216261</td>\n",
       "      <td>7.969719</td>\n",
       "      <td>cat</td>\n",
       "      <td>cat_1.wav</td>\n",
       "    </tr>\n",
       "    <tr>\n",
       "      <th>4</th>\n",
       "      <td>-432.400360</td>\n",
       "      <td>83.312820</td>\n",
       "      <td>11.399535</td>\n",
       "      <td>10.474150</td>\n",
       "      <td>-14.801990</td>\n",
       "      <td>2.420839</td>\n",
       "      <td>-21.404341</td>\n",
       "      <td>8.065122</td>\n",
       "      <td>-16.961800</td>\n",
       "      <td>6.195270</td>\n",
       "      <td>...</td>\n",
       "      <td>-7.925519</td>\n",
       "      <td>8.626961</td>\n",
       "      <td>-0.748905</td>\n",
       "      <td>1.306564</td>\n",
       "      <td>-19.525753</td>\n",
       "      <td>-9.941595</td>\n",
       "      <td>-4.196818</td>\n",
       "      <td>6.096716</td>\n",
       "      <td>cat</td>\n",
       "      <td>cat_1.wav</td>\n",
       "    </tr>\n",
       "  </tbody>\n",
       "</table>\n",
       "<p>5 rows × 22 columns</p>\n",
       "</div>"
      ],
      "text/plain": [
       "       MFCC_0     MFCC_1     MFCC_2     MFCC_3     MFCC_4     MFCC_5  \\\n",
       "0 -401.809357  -6.883381  37.074257   8.628761 -29.159145   8.689098   \n",
       "1 -451.546722  71.212662   9.399033   1.004310 -21.921335  -6.178901   \n",
       "2 -467.586639  66.741180  -3.497698  -1.904688 -12.276025  -3.175431   \n",
       "3 -462.881042  73.702545   1.519370   0.349248 -28.249584 -11.111385   \n",
       "4 -432.400360  83.312820  11.399535  10.474150 -14.801990   2.420839   \n",
       "\n",
       "      MFCC_6    MFCC_7     MFCC_8    MFCC_9  ...   MFCC_12    MFCC_13  \\\n",
       "0 -18.552784  9.624913   7.769758 -2.060371  ... -4.356100  21.479511   \n",
       "1 -17.028158 -3.420984  -9.570553  5.378980  ...  1.343739  15.090795   \n",
       "2 -26.669403  9.023046 -14.347551  1.665918  ... -5.439007  12.779630   \n",
       "3 -18.216236 -1.470417 -10.215892  3.547068  ... -2.649648  16.240955   \n",
       "4 -21.404341  8.065122 -16.961800  6.195270  ... -7.925519   8.626961   \n",
       "\n",
       "    MFCC_14   MFCC_15    MFCC_16   MFCC_17   MFCC_18   MFCC_19  class  \\\n",
       "0 -0.473684  9.695919  -4.573258  6.906791 -5.868635  6.419684    cat   \n",
       "1 -5.538236  0.010958 -16.734739 -3.696347 -1.431490  0.020051    cat   \n",
       "2 -7.836804 -1.615031 -14.847106 -4.164679 -6.856385  5.027202    cat   \n",
       "3  0.552022 -1.608632 -11.360909 -7.012007 -4.216261  7.969719    cat   \n",
       "4 -0.748905  1.306564 -19.525753 -9.941595 -4.196818  6.096716    cat   \n",
       "\n",
       "        file  \n",
       "0  cat_1.wav  \n",
       "1  cat_1.wav  \n",
       "2  cat_1.wav  \n",
       "3  cat_1.wav  \n",
       "4  cat_1.wav  \n",
       "\n",
       "[5 rows x 22 columns]"
      ]
     },
     "metadata": {},
     "output_type": "display_data"
    },
    {
     "name": "stdout",
     "output_type": "stream",
     "text": [
      "CPU times: user 1min 31s, sys: 325 ms, total: 1min 31s\n",
      "Wall time: 23 s\n"
     ]
    }
   ],
   "source": [
    "%%time\n",
    "# Setup dict for conversion to dataframe\n",
    "mfcc_dict = {}\n",
    "\n",
    "for i in range(0, BINS):\n",
    "    mfcc_dict[f'MFCC_{i}'] = []\n",
    "    \n",
    "mfcc_dict['class'] = []\n",
    "mfcc_dict['file'] = []\n",
    "\n",
    "# Begin processing\n",
    "for file, pet in get_pet():\n",
    "    # Load waveform and then MFCCs\n",
    "    wf, sr = librosa.load(base_path + file, sr=SAMPLING_FRQ)\n",
    "    assert(sr == SAMPLING_FRQ)\n",
    "    mfccs = librosa.feature.mfcc(wf, sr=sr, n_mfcc=BINS,  n_fft=FFT)\n",
    "    \n",
    "    # Add the mfccs values to the dict\n",
    "    for i in range(len(mfccs)):\n",
    "        mfcc_dict[f'MFCC_{i}'] += list(mfccs[i])\n",
    "        \n",
    "    # Add the class and file data to the dict\n",
    "    mfcc_dict['class'] += [pet] * len(mfccs[0])\n",
    "    mfcc_dict['file'] += [file] * len(mfccs[0])\n",
    "    \n",
    "# Create df\n",
    "ps_df = pd.DataFrame(mfcc_dict)  \n",
    "display(ps_df.head())"
   ]
  },
  {
   "cell_type": "code",
   "execution_count": 5,
   "metadata": {},
   "outputs": [],
   "source": [
    "# Split the data into X and Y\n",
    "X_filter = [col for col in ps_df.columns if col not in ['file', 'class']]\n",
    "X = ps_df.loc[:, X_filter].values\n",
    "\n",
    "Y_binarize = lambda x: 0 if x == 'cat' else 1\n",
    "Y = ps_df.loc[:, 'class']\n",
    "Y = Y.apply(Y_binarize)\n",
    "Y = Y.values.ravel()"
   ]
  },
  {
   "cell_type": "markdown",
   "metadata": {},
   "source": [
    "### Do some sklearn"
   ]
  },
  {
   "cell_type": "code",
   "execution_count": 8,
   "metadata": {},
   "outputs": [
    {
     "name": "stdout",
     "output_type": "stream",
     "text": [
      "Model: SVC(C=10, kernel='poly')\n",
      "\tScores: 0.883, 0.868, 0.863, 0.865, 0.884, 0.872, 0.876, 0.875, 0.877, 0.869, \n",
      "\tMean: 0.8733\n",
      "\tSTD: 0.0068\n",
      "\n",
      "\n",
      "CPU times: user 34.8 s, sys: 833 ms, total: 35.6 s\n",
      "Wall time: 35.7 s\n"
     ]
    }
   ],
   "source": [
    "%%time\n",
    "\n",
    "# parameters found through a GridSearchCV but it took 2 hours and I was mad it was SVC so deleted it\n",
    "model = SVC(C=10, kernel='poly') \n",
    "kfold = KFold(n_splits=10, shuffle=True)\n",
    "\n",
    "scores = cross_val_score(model, X, Y, cv=kfold)\n",
    "\n",
    "score_str = ''\n",
    "for idx, score in enumerate(scores):\n",
    "    score_str += f'{score:.3f}'\n",
    "    \n",
    "    if idx < len(scores):\n",
    "        score_str += ', '\n",
    "\n",
    "print(f'Model: {model}')\n",
    "print(f'\\tScores: {score_str}')\n",
    "print(f'\\tMean: {np.mean(scores):.4f}')\n",
    "print(f'\\tSTD: {np.std(scores):.4f}')\n",
    "print('\\n') # separates from the times from %%time"
   ]
  },
  {
   "cell_type": "code",
   "execution_count": null,
   "metadata": {},
   "outputs": [],
   "source": []
  }
 ],
 "metadata": {
  "kernelspec": {
   "display_name": "Python 3",
   "language": "python",
   "name": "python3"
  },
  "language_info": {
   "codemirror_mode": {
    "name": "ipython",
    "version": 3
   },
   "file_extension": ".py",
   "mimetype": "text/x-python",
   "name": "python",
   "nbconvert_exporter": "python",
   "pygments_lexer": "ipython3",
   "version": "3.8.5"
  }
 },
 "nbformat": 4,
 "nbformat_minor": 4
}
